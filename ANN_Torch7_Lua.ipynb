{
 "cells": [
  {
   "cell_type": "code",
   "execution_count": 1,
   "metadata": {},
   "outputs": [
    {
     "data": {
      "text/plain": [
       "200 data points added to the data set\t\n",
       "200\t\n"
      ]
     },
     "execution_count": 1,
     "metadata": {},
     "output_type": "execute_result"
    },
    {
     "data": {
      "text/plain": [
       "Testing with #nodes:3\t\n"
      ]
     },
     "execution_count": 1,
     "metadata": {},
     "output_type": "execute_result"
    },
    {
     "data": {
      "text/plain": [
       "Mean Error:0.085850134843505\t\n",
       "Max Error:1.0459789176606\t\n"
      ]
     },
     "execution_count": 1,
     "metadata": {},
     "output_type": "execute_result"
    },
    {
     "data": {
      "text/plain": [
       "Mean Error:0.0012327584093175\t\n",
       "Max Error:0.020488485166203\t\n"
      ]
     },
     "execution_count": 1,
     "metadata": {},
     "output_type": "execute_result"
    },
    {
     "data": {
      "text/plain": [
       "Mean Error:0.001123940564294\t\n",
       "Max Error:0.024423584760352\t\n",
       "Testing with #nodes:4\t\n"
      ]
     },
     "execution_count": 1,
     "metadata": {},
     "output_type": "execute_result"
    },
    {
     "data": {
      "text/plain": [
       "Mean Error:0.071158028301698\t\n",
       "Max Error:0.7929503396642\t\n"
      ]
     },
     "execution_count": 1,
     "metadata": {},
     "output_type": "execute_result"
    },
    {
     "data": {
      "text/plain": [
       "Mean Error:0.0010413073578313\t\n",
       "Max Error:0.005383933162884\t\n"
      ]
     },
     "execution_count": 1,
     "metadata": {},
     "output_type": "execute_result"
    },
    {
     "data": {
      "text/plain": [
       "Mean Error:0.0009578187436122\t\n",
       "Max Error:0.010734138978088\t\n"
      ]
     },
     "execution_count": 1,
     "metadata": {},
     "output_type": "execute_result"
    },
    {
     "data": {
      "text/plain": [
       "Testing with #nodes:5\t\n"
      ]
     },
     "execution_count": 1,
     "metadata": {},
     "output_type": "execute_result"
    },
    {
     "data": {
      "text/plain": [
       "Mean Error:0.09467988632534\t\n",
       "Max Error:1.6300577088953\t\n"
      ]
     },
     "execution_count": 1,
     "metadata": {},
     "output_type": "execute_result"
    },
    {
     "data": {
      "text/plain": [
       "Mean Error:0.0068184505033915\t\n",
       "Max Error:0.16715271708925\t\n"
      ]
     },
     "execution_count": 1,
     "metadata": {},
     "output_type": "execute_result"
    },
    {
     "data": {
      "text/plain": [
       "Mean Error:0.0057613672093321\t\n",
       "Max Error:0.14031967101417\t\n"
      ]
     },
     "execution_count": 1,
     "metadata": {},
     "output_type": "execute_result"
    },
    {
     "data": {
      "text/plain": [
       "Testing with #nodes:6\t\n"
      ]
     },
     "execution_count": 1,
     "metadata": {},
     "output_type": "execute_result"
    },
    {
     "data": {
      "text/plain": [
       "Mean Error:0.054973664415067\t\n",
       "Max Error:0.97018152755631\t\n"
      ]
     },
     "execution_count": 1,
     "metadata": {},
     "output_type": "execute_result"
    },
    {
     "data": {
      "text/plain": [
       "Mean Error:0.00084358144541301\t\n"
      ]
     },
     "execution_count": 1,
     "metadata": {},
     "output_type": "execute_result"
    },
    {
     "data": {
      "text/plain": [
       "Max Error:0.035868535988739\t\n"
      ]
     },
     "execution_count": 1,
     "metadata": {},
     "output_type": "execute_result"
    },
    {
     "data": {
      "text/plain": [
       "Mean Error:0.00062642549325368\t\n",
       "Max Error:0.025304009974254\t\n"
      ]
     },
     "execution_count": 1,
     "metadata": {},
     "output_type": "execute_result"
    }
   ],
   "source": [
    "require \"nn\"\n",
    "require \"optim\"\n",
    "\n",
    "-- Dataset definition for Torch with size()\n",
    "dataset={}   \n",
    "\n",
    "function dataset:size() \n",
    "  return #dataset\n",
    "end\n",
    "\n",
    "-- Target function definition\n",
    "function true_fun(x)\n",
    "  -- inputs [0,1]\n",
    "  -- return math.sin(x*2*math.pi)\n",
    "  return (1/(0.82+x))^12 -2 * (1/(.82+x))^6\n",
    "end\n",
    "\n",
    "-- Generating training dataset\n",
    "function gen_traindata(npoints) \n",
    "  for i=1,npoints do \n",
    "    xval = math.random()\n",
    "    yval = true_fun(xval)\n",
    "    table.insert(dataset,{torch.Tensor({xval}),torch.Tensor({yval})})\n",
    "  end\n",
    "  print (npoints .. ' data points added to the data set')\n",
    "end\n",
    "\n",
    "function network_preds(npoints)  -- generate data to test NN's predictions\n",
    "  outfile=io.open('output','w')\n",
    "  xvals = {}\n",
    "  for i=1,npoints do\n",
    "    xval=(npoints-i)/(npoints-1)\n",
    "    yreal=true_fun(xval)\n",
    "    xinput=torch.Tensor({xval})\n",
    "    ypred=mlp:forward(xinput)\n",
    "    print(xval,yreal,ypred[1])\n",
    "    outfile:write(xval .. ' ', yreal .. ' ', ypred[1], \"\\n\")\n",
    "  end\n",
    "  outfile:close()\n",
    "end  \n",
    "\n",
    "function prediction_error(npoints)  -- generate data to test NN's predictions\n",
    "  err = 0.0\n",
    "  maxerr = 0.0\n",
    "  for i=1,npoints do\n",
    "    xval=(npoints-i)/(npoints-1)\n",
    "    yreal=true_fun(xval)\n",
    "    xinput=torch.Tensor({xval})\n",
    "    ypred=mlp:forward(xinput)\n",
    "    current_err = math.abs(ypred[1]-yreal)\n",
    "    err = err + current_err\n",
    "    if current_err > maxerr then\n",
    "      maxerr = current_err\n",
    "    end\n",
    "  end\n",
    "  print('Mean Error:' .. err/npoints)\n",
    "  print('Max Error:' .. maxerr)\n",
    "end  \n",
    "\n",
    "function gen_network(ninputs,noutputs,nhidden)\n",
    "  mlp=nn.Sequential()\n",
    "  mlp:add(nn.Linear(ninputs,nhidden))\n",
    "  mlp:add(nn.Sigmoid())\n",
    "  mlp:add(nn.Linear(nhidden,noutputs))\n",
    "  return mlp\n",
    "end\n",
    "\n",
    "-- Generate dataset\n",
    "data_size = 200\n",
    "gen_traindata(data_size)\n",
    "print(dataset:size())\n",
    "inputdata = torch.DoubleTensor(dataset:size(),1)\n",
    "outputdata = torch.DoubleTensor(dataset:size(),1)\n",
    "for i = 1, dataset:size() do\n",
    "   inputdata[i]=dataset[i][1]\n",
    "   outputdata[i]=dataset[i][2]\n",
    "end\n",
    "\n",
    "maxIteration = 2000\n",
    "maxTrainSteps = 100\n",
    "\n",
    "for nnodes = 3, 6 do\n",
    "  -- Creating ANN\n",
    "  ninputs=1;noutputs=1;hidden=nnodes\n",
    "  mlp = gen_network(ninputs,noutputs,hidden)\n",
    "  params, gradParams = mlp:getParameters()\n",
    "  print(\"Testing with #nodes:\" .. nnodes)\n",
    "\n",
    "  -- Optimization Settings\n",
    "  local optimState = {learningRate = 0.01}\n",
    "  criterion=nn.MSECriterion()\n",
    "\n",
    "  for ntrain = 1, maxTrainSteps do\n",
    "    -- Training\n",
    "    for epoch = 1, maxIteration do\n",
    "      function feval(params)\n",
    "        gradParams:zero()\n",
    "\n",
    "        local outputs = mlp:forward(inputdata)\n",
    "        local loss = criterion:forward(outputs, outputdata)\n",
    "        local dloss_doutputs = criterion:backward(outputs, outputdata)\n",
    "        mlp:backward(inputdata, dloss_doutputs)\n",
    "\n",
    "        return loss, gradParams\n",
    "      end\n",
    "      optim.adam(feval, params, optimState)\n",
    "    end\n",
    "    -- Predictions\n",
    "    if ntrain == 1 then\n",
    "      prediction_error(1000)\n",
    "    end\n",
    "    if ntrain%50 == 0 then\n",
    "      prediction_error(1000)\n",
    "    end\n",
    "  end\n",
    "end\n",
    "\n",
    "-- network_preds(1000)\n",
    "\n",
    "\n"
   ]
  },
  {
   "cell_type": "code",
   "execution_count": null,
   "metadata": {},
   "outputs": [],
   "source": []
  }
 ],
 "metadata": {
  "kernelspec": {
   "display_name": "iTorch",
   "language": "lua",
   "name": "itorch"
  },
  "language_info": {
   "name": "lua",
   "version": "5.1"
  }
 },
 "nbformat": 4,
 "nbformat_minor": 2
}
